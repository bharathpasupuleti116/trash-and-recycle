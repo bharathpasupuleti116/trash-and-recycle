{
 "cells": [
  {
   "cell_type": "code",
   "execution_count": 1,
   "id": "ef0f5a54",
   "metadata": {},
   "outputs": [],
   "source": [
    "import tkinter as tk\n",
    "from tkinter import filedialog\n",
    "from PIL import Image, ImageTk\n",
    "import numpy as np\n",
    "import tensorflow as tf \n",
    "from tensorflow.keras.models import load_model"
   ]
  },
  {
   "cell_type": "code",
   "execution_count": 2,
   "id": "c0961c90",
   "metadata": {},
   "outputs": [
    {
     "data": {
      "text/html": [
       "<pre style=\"white-space:pre;overflow-x:auto;line-height:normal;font-family:Menlo,'DejaVu Sans Mono',consolas,'Courier New',monospace\"><span style=\"font-weight: bold\">Model: \"sequential_2\"</span>\n",
       "</pre>\n"
      ],
      "text/plain": [
       "\u001b[1mModel: \"sequential_2\"\u001b[0m\n"
      ]
     },
     "metadata": {},
     "output_type": "display_data"
    },
    {
     "data": {
      "text/html": [
       "<pre style=\"white-space:pre;overflow-x:auto;line-height:normal;font-family:Menlo,'DejaVu Sans Mono',consolas,'Courier New',monospace\">┏━━━━━━━━━━━━━━━━━━━━━━━━━━━━━━━━━━━━━━┳━━━━━━━━━━━━━━━━━━━━━━━━━━━━━┳━━━━━━━━━━━━━━━━━┓\n",
       "┃<span style=\"font-weight: bold\"> Layer (type)                         </span>┃<span style=\"font-weight: bold\"> Output Shape                </span>┃<span style=\"font-weight: bold\">         Param # </span>┃\n",
       "┡━━━━━━━━━━━━━━━━━━━━━━━━━━━━━━━━━━━━━━╇━━━━━━━━━━━━━━━━━━━━━━━━━━━━━╇━━━━━━━━━━━━━━━━━┩\n",
       "│ conv2d_6 (<span style=\"color: #0087ff; text-decoration-color: #0087ff\">Conv2D</span>)                    │ (<span style=\"color: #00d7ff; text-decoration-color: #00d7ff\">None</span>, <span style=\"color: #00af00; text-decoration-color: #00af00\">148</span>, <span style=\"color: #00af00; text-decoration-color: #00af00\">148</span>, <span style=\"color: #00af00; text-decoration-color: #00af00\">32</span>)        │             <span style=\"color: #00af00; text-decoration-color: #00af00\">896</span> │\n",
       "├──────────────────────────────────────┼─────────────────────────────┼─────────────────┤\n",
       "│ max_pooling2d_4 (<span style=\"color: #0087ff; text-decoration-color: #0087ff\">MaxPooling2D</span>)       │ (<span style=\"color: #00d7ff; text-decoration-color: #00d7ff\">None</span>, <span style=\"color: #00af00; text-decoration-color: #00af00\">74</span>, <span style=\"color: #00af00; text-decoration-color: #00af00\">74</span>, <span style=\"color: #00af00; text-decoration-color: #00af00\">32</span>)          │               <span style=\"color: #00af00; text-decoration-color: #00af00\">0</span> │\n",
       "├──────────────────────────────────────┼─────────────────────────────┼─────────────────┤\n",
       "│ conv2d_7 (<span style=\"color: #0087ff; text-decoration-color: #0087ff\">Conv2D</span>)                    │ (<span style=\"color: #00d7ff; text-decoration-color: #00d7ff\">None</span>, <span style=\"color: #00af00; text-decoration-color: #00af00\">72</span>, <span style=\"color: #00af00; text-decoration-color: #00af00\">72</span>, <span style=\"color: #00af00; text-decoration-color: #00af00\">64</span>)          │          <span style=\"color: #00af00; text-decoration-color: #00af00\">18,496</span> │\n",
       "├──────────────────────────────────────┼─────────────────────────────┼─────────────────┤\n",
       "│ max_pooling2d_5 (<span style=\"color: #0087ff; text-decoration-color: #0087ff\">MaxPooling2D</span>)       │ (<span style=\"color: #00d7ff; text-decoration-color: #00d7ff\">None</span>, <span style=\"color: #00af00; text-decoration-color: #00af00\">36</span>, <span style=\"color: #00af00; text-decoration-color: #00af00\">36</span>, <span style=\"color: #00af00; text-decoration-color: #00af00\">64</span>)          │               <span style=\"color: #00af00; text-decoration-color: #00af00\">0</span> │\n",
       "├──────────────────────────────────────┼─────────────────────────────┼─────────────────┤\n",
       "│ conv2d_8 (<span style=\"color: #0087ff; text-decoration-color: #0087ff\">Conv2D</span>)                    │ (<span style=\"color: #00d7ff; text-decoration-color: #00d7ff\">None</span>, <span style=\"color: #00af00; text-decoration-color: #00af00\">34</span>, <span style=\"color: #00af00; text-decoration-color: #00af00\">34</span>, <span style=\"color: #00af00; text-decoration-color: #00af00\">64</span>)          │          <span style=\"color: #00af00; text-decoration-color: #00af00\">36,928</span> │\n",
       "├──────────────────────────────────────┼─────────────────────────────┼─────────────────┤\n",
       "│ flatten_2 (<span style=\"color: #0087ff; text-decoration-color: #0087ff\">Flatten</span>)                  │ (<span style=\"color: #00d7ff; text-decoration-color: #00d7ff\">None</span>, <span style=\"color: #00af00; text-decoration-color: #00af00\">73984</span>)               │               <span style=\"color: #00af00; text-decoration-color: #00af00\">0</span> │\n",
       "├──────────────────────────────────────┼─────────────────────────────┼─────────────────┤\n",
       "│ dense_4 (<span style=\"color: #0087ff; text-decoration-color: #0087ff\">Dense</span>)                      │ (<span style=\"color: #00d7ff; text-decoration-color: #00d7ff\">None</span>, <span style=\"color: #00af00; text-decoration-color: #00af00\">64</span>)                  │       <span style=\"color: #00af00; text-decoration-color: #00af00\">4,735,040</span> │\n",
       "├──────────────────────────────────────┼─────────────────────────────┼─────────────────┤\n",
       "│ dense_5 (<span style=\"color: #0087ff; text-decoration-color: #0087ff\">Dense</span>)                      │ (<span style=\"color: #00d7ff; text-decoration-color: #00d7ff\">None</span>, <span style=\"color: #00af00; text-decoration-color: #00af00\">7</span>)                   │             <span style=\"color: #00af00; text-decoration-color: #00af00\">455</span> │\n",
       "└──────────────────────────────────────┴─────────────────────────────┴─────────────────┘\n",
       "</pre>\n"
      ],
      "text/plain": [
       "┏━━━━━━━━━━━━━━━━━━━━━━━━━━━━━━━━━━━━━━┳━━━━━━━━━━━━━━━━━━━━━━━━━━━━━┳━━━━━━━━━━━━━━━━━┓\n",
       "┃\u001b[1m \u001b[0m\u001b[1mLayer (type)                        \u001b[0m\u001b[1m \u001b[0m┃\u001b[1m \u001b[0m\u001b[1mOutput Shape               \u001b[0m\u001b[1m \u001b[0m┃\u001b[1m \u001b[0m\u001b[1m        Param #\u001b[0m\u001b[1m \u001b[0m┃\n",
       "┡━━━━━━━━━━━━━━━━━━━━━━━━━━━━━━━━━━━━━━╇━━━━━━━━━━━━━━━━━━━━━━━━━━━━━╇━━━━━━━━━━━━━━━━━┩\n",
       "│ conv2d_6 (\u001b[38;5;33mConv2D\u001b[0m)                    │ (\u001b[38;5;45mNone\u001b[0m, \u001b[38;5;34m148\u001b[0m, \u001b[38;5;34m148\u001b[0m, \u001b[38;5;34m32\u001b[0m)        │             \u001b[38;5;34m896\u001b[0m │\n",
       "├──────────────────────────────────────┼─────────────────────────────┼─────────────────┤\n",
       "│ max_pooling2d_4 (\u001b[38;5;33mMaxPooling2D\u001b[0m)       │ (\u001b[38;5;45mNone\u001b[0m, \u001b[38;5;34m74\u001b[0m, \u001b[38;5;34m74\u001b[0m, \u001b[38;5;34m32\u001b[0m)          │               \u001b[38;5;34m0\u001b[0m │\n",
       "├──────────────────────────────────────┼─────────────────────────────┼─────────────────┤\n",
       "│ conv2d_7 (\u001b[38;5;33mConv2D\u001b[0m)                    │ (\u001b[38;5;45mNone\u001b[0m, \u001b[38;5;34m72\u001b[0m, \u001b[38;5;34m72\u001b[0m, \u001b[38;5;34m64\u001b[0m)          │          \u001b[38;5;34m18,496\u001b[0m │\n",
       "├──────────────────────────────────────┼─────────────────────────────┼─────────────────┤\n",
       "│ max_pooling2d_5 (\u001b[38;5;33mMaxPooling2D\u001b[0m)       │ (\u001b[38;5;45mNone\u001b[0m, \u001b[38;5;34m36\u001b[0m, \u001b[38;5;34m36\u001b[0m, \u001b[38;5;34m64\u001b[0m)          │               \u001b[38;5;34m0\u001b[0m │\n",
       "├──────────────────────────────────────┼─────────────────────────────┼─────────────────┤\n",
       "│ conv2d_8 (\u001b[38;5;33mConv2D\u001b[0m)                    │ (\u001b[38;5;45mNone\u001b[0m, \u001b[38;5;34m34\u001b[0m, \u001b[38;5;34m34\u001b[0m, \u001b[38;5;34m64\u001b[0m)          │          \u001b[38;5;34m36,928\u001b[0m │\n",
       "├──────────────────────────────────────┼─────────────────────────────┼─────────────────┤\n",
       "│ flatten_2 (\u001b[38;5;33mFlatten\u001b[0m)                  │ (\u001b[38;5;45mNone\u001b[0m, \u001b[38;5;34m73984\u001b[0m)               │               \u001b[38;5;34m0\u001b[0m │\n",
       "├──────────────────────────────────────┼─────────────────────────────┼─────────────────┤\n",
       "│ dense_4 (\u001b[38;5;33mDense\u001b[0m)                      │ (\u001b[38;5;45mNone\u001b[0m, \u001b[38;5;34m64\u001b[0m)                  │       \u001b[38;5;34m4,735,040\u001b[0m │\n",
       "├──────────────────────────────────────┼─────────────────────────────┼─────────────────┤\n",
       "│ dense_5 (\u001b[38;5;33mDense\u001b[0m)                      │ (\u001b[38;5;45mNone\u001b[0m, \u001b[38;5;34m7\u001b[0m)                   │             \u001b[38;5;34m455\u001b[0m │\n",
       "└──────────────────────────────────────┴─────────────────────────────┴─────────────────┘\n"
      ]
     },
     "metadata": {},
     "output_type": "display_data"
    },
    {
     "data": {
      "text/html": [
       "<pre style=\"white-space:pre;overflow-x:auto;line-height:normal;font-family:Menlo,'DejaVu Sans Mono',consolas,'Courier New',monospace\"><span style=\"font-weight: bold\"> Total params: </span><span style=\"color: #00af00; text-decoration-color: #00af00\">4,791,815</span> (18.28 MB)\n",
       "</pre>\n"
      ],
      "text/plain": [
       "\u001b[1m Total params: \u001b[0m\u001b[38;5;34m4,791,815\u001b[0m (18.28 MB)\n"
      ]
     },
     "metadata": {},
     "output_type": "display_data"
    },
    {
     "data": {
      "text/html": [
       "<pre style=\"white-space:pre;overflow-x:auto;line-height:normal;font-family:Menlo,'DejaVu Sans Mono',consolas,'Courier New',monospace\"><span style=\"font-weight: bold\"> Trainable params: </span><span style=\"color: #00af00; text-decoration-color: #00af00\">4,791,815</span> (18.28 MB)\n",
       "</pre>\n"
      ],
      "text/plain": [
       "\u001b[1m Trainable params: \u001b[0m\u001b[38;5;34m4,791,815\u001b[0m (18.28 MB)\n"
      ]
     },
     "metadata": {},
     "output_type": "display_data"
    },
    {
     "data": {
      "text/html": [
       "<pre style=\"white-space:pre;overflow-x:auto;line-height:normal;font-family:Menlo,'DejaVu Sans Mono',consolas,'Courier New',monospace\"><span style=\"font-weight: bold\"> Non-trainable params: </span><span style=\"color: #00af00; text-decoration-color: #00af00\">0</span> (0.00 B)\n",
       "</pre>\n"
      ],
      "text/plain": [
       "\u001b[1m Non-trainable params: \u001b[0m\u001b[38;5;34m0\u001b[0m (0.00 B)\n"
      ]
     },
     "metadata": {},
     "output_type": "display_data"
    }
   ],
   "source": [
    "# Load the saved model\n",
    "model = load_model('model.keras')\n",
    "model.compile(loss='categorical_crossentropy', optimizer='adam', metrics=['accuracy'])\n",
    "model.summary()"
   ]
  },
  {
   "cell_type": "code",
   "execution_count": null,
   "id": "e991bbaa",
   "metadata": {},
   "outputs": [
    {
     "name": "stdout",
     "output_type": "stream",
     "text": [
      "\u001b[1m1/1\u001b[0m \u001b[32m━━━━━━━━━━━━━━━━━━━━\u001b[0m\u001b[37m\u001b[0m \u001b[1m0s\u001b[0m 251ms/step\n"
     ]
    }
   ],
   "source": [
    "# Define the GUI class\n",
    "class TrashRecycleGUI(tk.Tk):\n",
    "    def __init__(self):\n",
    "        super().__init__()\n",
    "        self.title(\"Trash and Recyclable Material Identification\")\n",
    "        self.geometry(\"600x400\")\n",
    "        self.resizable(False, False)\n",
    "        self.configure(bg=\"#f0f0f0\")\n",
    "        self.create_widgets()\n",
    "        self.image_path = None\n",
    "        self.image = None\n",
    "        self.predicted_class = None\n",
    "        self.predicted_probability = None\n",
    "        self.class_names = [\"cardboard\", \"compost\", \"glass\", \"metal\", \"paper\", \"plastic\", \"trash\"]\n",
    "        self.class_labels = [\"Cardboard\", \"Compost\", \"Glass\", \"Metal\", \"Paper\", \"Plastic\", \"Trash\"]\n",
    "        self.class_colors = [\"#ff0000\", \"#0fff00\", \"#00ff00\", \"#0000ff\", \"#ffff00\", \"#ff00ff\", \"#00ffff\"]\n",
    "        self.class_colors = [tuple(int(color.lstrip(\"#\")[i:i+2], 16) / 255 for i in (0, 2, 4)) for color in self.class_colors]\n",
    "        \n",
    "    def create_widgets(self):\n",
    "        # Create a frame to hold the image\n",
    "        self.image_frame = tk.Frame(self, bg=\"#f0f0f0\")\n",
    "        self.image_frame.pack(pady=10)\n",
    "        \n",
    "        # Create a label to display the image\n",
    "        self.image_label = tk.Label(self.image_frame, bg=\"#f0f0f0\")\n",
    "        self.image_label.pack()\n",
    "        \n",
    "        # Create a frame to hold the predicted class and probability\n",
    "        self.predicted_frame = tk.Frame(self, bg=\"#f0f0f0\")\n",
    "        self.predicted_frame.pack(pady=10)\n",
    "        \n",
    "        # Create a label to display the predicted class\n",
    "        self.predicted_class_label = tk.Label(self.predicted_frame, text=\"Predicted Class:\", bg=\"#f0f0f0\")\n",
    "        self.predicted_class_label.pack(side=\"left\", padx=10)\n",
    "        \n",
    "        # Create a label to display the predicted probability\n",
    "        self.predicted_probability_label = tk.Label(self.predicted_frame, text=\"Predicted Probability:\", bg=\"#f0f0f0\")\n",
    "        self.predicted_probability_label.pack(side=\"left\", padx=10)\n",
    "        \n",
    "        # Create a label to display the predicted material\n",
    "        self.predicted_material_label = tk.Label(self.predicted_frame, text=\"Predicted Material:\", bg=\"#f0f0f0\")\n",
    "        self.predicted_material_label.pack(side=\"left\", padx=10)\n",
    "        \n",
    "        # Create a frame to hold the buttons\n",
    "        self.button_frame = tk.Frame(self, bg=\"#f0f0f0\")\n",
    "        self.button_frame.pack(pady=10)\n",
    "        \n",
    "        # Create a button to select an image\n",
    "        self.select_button = tk.Button(self.button_frame, text=\"Select Image\", command=self.select_image)\n",
    "        self.select_button.pack(side=\"left\", padx=10)\n",
    "        \n",
    "        # Create a button to classify the image\n",
    "        self.classify_button = tk.Button(self.button_frame, text=\"Classify Image\", command=self.classify_image)\n",
    "        self.classify_button.pack(side=\"left\", padx=10)\n",
    "        \n",
    "        # Create a button to clear the image and predicted class\n",
    "        self.clear_button = tk.Button(self.button_frame, text=\"Clear\", command=self.clear_image)\n",
    "        self.clear_button.pack(side=\"left\", padx=10)\n",
    "        \n",
    "    def select_image(self):\n",
    "        # Open a file dialog to select an image\n",
    "        self.image_path = filedialog.askopenfilename(filetypes=[(\"Image Files\", \"*.jpg;*.jpeg;*.png\")])\n",
    "        if self.image_path:\n",
    "            # Load the image and resize it to 224x224 pixels\n",
    "            self.image = Image.open(self.image_path)\n",
    "            self.image = self.image.resize((224, 224))\n",
    "            self.image = ImageTk.PhotoImage(self.image)\n",
    "            \n",
    "            # Update the image label with the selected image\n",
    "            self.image_label.configure(image=self.image)\n",
    "            self.image_label.image = self.image\n",
    "            self.predicted_class = None\n",
    "            self.predicted_probability = None\n",
    "            self.predicted_class_label.configure(text=\"Predicted Class:\")\n",
    "            self.predicted_probability_label.configure(text=\"Predicted Probability:\")\n",
    "            \n",
    "    def classify_image(self):\n",
    "        # Check if an image is selected\n",
    "        if self.image_path:\n",
    "            # Load the image and resize it to 150*150 pixels\n",
    "            image = Image.open(self.image_path)\n",
    "            image = image.resize((150, 150))\n",
    "            \n",
    "            # Convert the image to a numpy array\n",
    "            image_array = np.array(image)\n",
    "            \n",
    "            # Normalize the image array\n",
    "            image_array = image_array / 255.0\n",
    "            \n",
    "            # Reshape the image array to match the input shape of the model\n",
    "            image_array = image_array.reshape((1, 150, 150, 3))\n",
    "            \n",
    "            # Make a prediction using the loaded model\n",
    "            predictions = model.predict(image_array)\n",
    "            \n",
    "            # Get the predicted class and probability\n",
    "            predicted_class_index = np.argmax(predictions[0])\n",
    "            predicted_class = self.class_names[predicted_class_index]\n",
    "            predicted_probability = predictions[0][predicted_class_index]\n",
    "            \n",
    "            # Check if the predicted class belongs to recycle or trash material\n",
    "            if predicted_class in [\"cardboard\", \"glass\", \"metal\", \"paper\", \"plastic\"]:\n",
    "                predicted_material = \"Recyclable\"\n",
    "            elif predicted_class == \"trash\":\n",
    "                predicted_material = \"Trash\"\n",
    "            else:\n",
    "                predicted_material = \"Unknown\"\n",
    "            \n",
    "            # Update the predicted class label and probability label\n",
    "            self.predicted_class_label.configure(text=f\"Predicted Class: {predicted_class}\")\n",
    "            self.predicted_probability_label.configure(text=f\"Predicted Probability: {predicted_probability:.2f}\")\n",
    "            self.predicted_material_label.configure(text=f\"Predicted Material: {predicted_material}\")\n",
    "            \n",
    "            # Update the predicted class and probability variables\n",
    "            self.predicted_class = predicted_class\n",
    "            self.predicted_probability = predicted_probability\n",
    "                \n",
    "            \n",
    "            # Update the predicted class and probability labels\n",
    "            self.predicted_class_label.configure(text=\"Predicted Class: {}\".format(predicted_class))\n",
    "            self.predicted_probability_label.configure(text=\"Predicted Probability: {:.2f}%\".format(predicted_probability * 100))\n",
    "            \n",
    "            # Set the predicted class and probability\n",
    "            self.predicted_class = predicted_class\n",
    "            self.predicted_probability = predicted_probability\n",
    "        else:\n",
    "            # Clear the predicted class and probability labels if no image is selected\n",
    "            self.predicted_class_label.configure(text=\"Predicted Class:\")\n",
    "            self.predicted_probability_label.configure(text=\"Predicted Probability:\")\n",
    "            self.predicted_class = None\n",
    "            self.predicted_probability = None\n",
    "            self.predicted_class_label.configure(text=\"Predicted Class:\")\n",
    "            self.predicted_probability_label.configure(text=\"Predicted Probability:\")\n",
    "            \n",
    "    def clear_image(self):\n",
    "        # Clear the image and predicted class labels\n",
    "        self.image_label.configure(image=None)\n",
    "        self.image_label.image = None\n",
    "        self.predicted_class_label.configure(text=\"Predicted Class:\")\n",
    "        self.predicted_probability_label.configure(text=\"Predicted Probability:\")\n",
    "        self.predicted_class = None\n",
    "        self.predicted_probability = None\n",
    "        \n",
    "        \n",
    "# Run the GUI\n",
    "if __name__ == \"__main__\":\n",
    "    # Load the saved model\n",
    "    model = load_model(\"model.keras\")\n",
    "    \n",
    "    # Create the GUI\n",
    "    gui = TrashRecycleGUI()\n",
    "    \n",
    "    # Start the GUI event loop\n",
    "    gui.mainloop()"
   ]
  },
  {
   "cell_type": "code",
   "execution_count": null,
   "id": "27a1573b",
   "metadata": {},
   "outputs": [],
   "source": []
  },
  {
   "cell_type": "code",
   "execution_count": null,
   "id": "06dbb3fc",
   "metadata": {},
   "outputs": [],
   "source": []
  }
 ],
 "metadata": {
  "kernelspec": {
   "display_name": "Python 3 (ipykernel)",
   "language": "python",
   "name": "python3"
  },
  "language_info": {
   "codemirror_mode": {
    "name": "ipython",
    "version": 3
   },
   "file_extension": ".py",
   "mimetype": "text/x-python",
   "name": "python",
   "nbconvert_exporter": "python",
   "pygments_lexer": "ipython3",
   "version": "3.12.3"
  }
 },
 "nbformat": 4,
 "nbformat_minor": 5
}
